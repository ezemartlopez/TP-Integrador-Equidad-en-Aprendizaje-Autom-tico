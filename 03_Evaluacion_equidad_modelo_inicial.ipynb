{
 "cells": [
  {
   "cell_type": "markdown",
   "id": "23b371be",
   "metadata": {},
   "source": [
    "# Evaluación de equidad del modelo inicial"
   ]
  },
  {
   "cell_type": "markdown",
   "id": "a3b21fa4",
   "metadata": {},
   "source": [
    "## Interpretacion de los criterios Fairness"
   ]
  },
  {
   "cell_type": "markdown",
   "id": "96e93cfc",
   "metadata": {},
   "source": [
    "## Analisis de Criterios"
   ]
  },
  {
   "cell_type": "markdown",
   "id": "4cdbd9ce",
   "metadata": {},
   "source": [
    "## Justificacion del criterio relevante"
   ]
  },
  {
   "cell_type": "markdown",
   "id": "88a1429f",
   "metadata": {},
   "source": []
  }
 ],
 "metadata": {
  "language_info": {
   "name": "python"
  }
 },
 "nbformat": 4,
 "nbformat_minor": 5
}

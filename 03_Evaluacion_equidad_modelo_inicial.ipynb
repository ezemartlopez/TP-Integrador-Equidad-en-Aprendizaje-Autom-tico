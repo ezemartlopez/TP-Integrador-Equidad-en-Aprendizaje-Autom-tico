{
 "cells": [
  {
   "cell_type": "markdown",
   "id": "23b371be",
   "metadata": {},
   "source": [
    "# Evaluación de equidad del modelo inicial"
   ]
  },
  {
   "cell_type": "markdown",
   "id": "a3b21fa4",
   "metadata": {},
   "source": [
    "## Interpretacion de los criterios Fairness"
   ]
  },
  {
   "cell_type": "markdown",
   "id": "0f9af448",
   "metadata": {},
   "source": [
    "En el contexto de la asignación de prestamos, después de ver los datos, consideramos como grupos de interés para buscar la equidad a las mujeres y los hombres, aunque también se podría considerar un grupo cada franja de edades. Siendo esos los grupos que nos interesan, en este contexto interpretamos los criterios de fairness de la siguiente manera: \n",
    "\n",
    "- *Statistical Parity*:\n",
    "Este criterio se cumple si para todos los grupos la taza de predicciones positivas es la misma, lo que en este contexto significa que tanto para hombres como para mujeres se debería tener la misma probabilidad de conseguir que el modelo los clasifique como un buen credito y en consecuencia el banco les de el dinero.\n",
    "\n",
    "- *Equalized Odds*:\n",
    "En el caso de este criterio se busca que la probabilidad de que se apruebe el credito dado que era un buen credito y la probabilidad de que se apruebe el credito siendo que en la realidad era un mal credito sean las mismas entre los grupos. Esto se traduce en que se busca que para hombres y mujeres exista  la misma probabilidad de conseguir un prestamo dado que realmente es un buen credito, y la misma probabilidad de obtenerlo dado que no es un buen credito. Se espera que para las asignaciones de prestamos el modelo acierte y se equivoque con la misma taza entre grupos.\n",
    "\n",
    "- *Equal Opportunity*:\n",
    "Para este contexto implica que para hombres y mujeres exista la misma probabilidad de conseguir un préstamo dado que realmente es un buen credito. Solo mira los True Positive Rate. \n",
    "\n",
    "- *Predictive Parity*:\n",
    "Este criterio se cumple cuando entre los grupos de interés la probabilidad de que en la realidad sea positivo dado que la predicción es positiva es la misma o similar. En el contexto de los prestamos se traduce buscando que si el modelo aprueba un credito, la probabilidad de que realmente sea un buen credito sea la misma tanto para mujeres como para hombres, es decir que la taza de prestamos aprobados correctamente sea similar."
   ]
  },
  {
   "cell_type": "markdown",
   "id": "96e93cfc",
   "metadata": {},
   "source": [
    "## Analisis de Criterios"
   ]
  },
  {
   "cell_type": "markdown",
   "id": "c8670b3a",
   "metadata": {},
   "source": []
  },
  {
   "cell_type": "markdown",
   "id": "4cdbd9ce",
   "metadata": {},
   "source": [
    "## Justificacion del criterio relevante"
   ]
  },
  {
   "cell_type": "markdown",
   "id": "88a1429f",
   "metadata": {},
   "source": []
  }
 ],
 "metadata": {
  "kernelspec": {
   "display_name": "base",
   "language": "python",
   "name": "python3"
  },
  "language_info": {
   "name": "python",
   "version": "3.12.7"
  }
 },
 "nbformat": 4,
 "nbformat_minor": 5
}

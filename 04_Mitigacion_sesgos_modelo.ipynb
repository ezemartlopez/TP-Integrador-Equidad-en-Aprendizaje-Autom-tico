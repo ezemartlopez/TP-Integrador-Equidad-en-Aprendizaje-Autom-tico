{
 "cells": [
  {
   "cell_type": "markdown",
   "id": "4ff489c8",
   "metadata": {},
   "source": [
    "# Mitigación de sesgos"
   ]
  },
  {
   "cell_type": "markdown",
   "id": "03de2e6d",
   "metadata": {},
   "source": [
    "## Seleccion de 2 tecnicas de mitigacion de sesgos"
   ]
  },
  {
   "cell_type": "markdown",
   "id": "aac6ccc1",
   "metadata": {},
   "source": [
    "## Modelo entrenado con dichas tecnicas"
   ]
  },
  {
   "cell_type": "markdown",
   "id": "a0dae3b4",
   "metadata": {},
   "source": [
    "## Evaluacion de performance"
   ]
  },
  {
   "cell_type": "markdown",
   "id": "aa4ba565",
   "metadata": {},
   "source": [
    "## Evaluacion de equidad"
   ]
  },
  {
   "cell_type": "markdown",
   "id": "ab223ebf",
   "metadata": {},
   "source": []
  }
 ],
 "metadata": {
  "language_info": {
   "name": "python"
  }
 },
 "nbformat": 4,
 "nbformat_minor": 5
}

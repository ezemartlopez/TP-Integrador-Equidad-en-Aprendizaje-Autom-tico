{
 "cells": [
  {
   "cell_type": "markdown",
   "id": "b9885e36",
   "metadata": {},
   "source": [
    "# Creación de un modelo inicial"
   ]
  },
  {
   "cell_type": "markdown",
   "id": "ddbd3a5d",
   "metadata": {},
   "source": [
    "## Eleccion del modelo de clasificación"
   ]
  },
  {
   "cell_type": "code",
   "execution_count": null,
   "id": "4826169a",
   "metadata": {},
   "outputs": [],
   "source": []
  },
  {
   "cell_type": "markdown",
   "id": "744e003c",
   "metadata": {},
   "source": [
    "## Entrenamiento y evaluación del modelo"
   ]
  },
  {
   "cell_type": "code",
   "execution_count": null,
   "id": "93fdc58e",
   "metadata": {},
   "outputs": [],
   "source": []
  },
  {
   "cell_type": "markdown",
   "id": "5fbd726e",
   "metadata": {},
   "source": [
    "## Matriz de confusión"
   ]
  },
  {
   "cell_type": "markdown",
   "id": "98fab998",
   "metadata": {},
   "source": []
  },
  {
   "cell_type": "markdown",
   "id": "24651882",
   "metadata": {},
   "source": [
    "## Interpretacion de resultados"
   ]
  },
  {
   "cell_type": "code",
   "execution_count": null,
   "id": "b14cdbf9",
   "metadata": {},
   "outputs": [],
   "source": []
  },
  {
   "cell_type": "markdown",
   "id": "a4426384",
   "metadata": {},
   "source": [
    "## Justificacion"
   ]
  }
 ],
 "metadata": {
  "language_info": {
   "name": "python"
  }
 },
 "nbformat": 4,
 "nbformat_minor": 5
}

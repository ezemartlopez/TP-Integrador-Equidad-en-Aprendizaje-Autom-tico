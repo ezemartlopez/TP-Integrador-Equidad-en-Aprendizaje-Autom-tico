{
 "cells": [
  {
   "cell_type": "markdown",
   "id": "b9885e36",
   "metadata": {},
   "source": [
    "# Creación de un modelo inicial"
   ]
  },
  {
   "cell_type": "markdown",
   "id": "dc49b1e8",
   "metadata": {},
   "source": [
    "### Carga de los datos"
   ]
  },
  {
   "cell_type": "code",
   "execution_count": null,
   "id": "26ac31b5",
   "metadata": {},
   "outputs": [],
   "source": [
    "%pip install ucimlrepo"
   ]
  },
  {
   "cell_type": "markdown",
   "id": "5cfda43b",
   "metadata": {},
   "source": [
    "Obtenemos el dataset de para el modelo."
   ]
  },
  {
   "cell_type": "code",
   "execution_count": 28,
   "id": "9aa38032",
   "metadata": {},
   "outputs": [
    {
     "data": {
      "text/html": [
       "<div>\n",
       "<style scoped>\n",
       "    .dataframe tbody tr th:only-of-type {\n",
       "        vertical-align: middle;\n",
       "    }\n",
       "\n",
       "    .dataframe tbody tr th {\n",
       "        vertical-align: top;\n",
       "    }\n",
       "\n",
       "    .dataframe thead th {\n",
       "        text-align: right;\n",
       "    }\n",
       "</style>\n",
       "<table border=\"1\" class=\"dataframe\">\n",
       "  <thead>\n",
       "    <tr style=\"text-align: right;\">\n",
       "      <th></th>\n",
       "      <th>Attribute1</th>\n",
       "      <th>Attribute2</th>\n",
       "      <th>Attribute3</th>\n",
       "      <th>Attribute4</th>\n",
       "      <th>Attribute5</th>\n",
       "      <th>Attribute6</th>\n",
       "      <th>Attribute7</th>\n",
       "      <th>Attribute8</th>\n",
       "      <th>Attribute9</th>\n",
       "      <th>Attribute10</th>\n",
       "      <th>...</th>\n",
       "      <th>Attribute12</th>\n",
       "      <th>Attribute13</th>\n",
       "      <th>Attribute14</th>\n",
       "      <th>Attribute15</th>\n",
       "      <th>Attribute16</th>\n",
       "      <th>Attribute17</th>\n",
       "      <th>Attribute18</th>\n",
       "      <th>Attribute19</th>\n",
       "      <th>Attribute20</th>\n",
       "      <th>class</th>\n",
       "    </tr>\n",
       "  </thead>\n",
       "  <tbody>\n",
       "    <tr>\n",
       "      <th>0</th>\n",
       "      <td>A11</td>\n",
       "      <td>6</td>\n",
       "      <td>A34</td>\n",
       "      <td>A43</td>\n",
       "      <td>1169</td>\n",
       "      <td>A65</td>\n",
       "      <td>A75</td>\n",
       "      <td>4</td>\n",
       "      <td>A93</td>\n",
       "      <td>A101</td>\n",
       "      <td>...</td>\n",
       "      <td>A121</td>\n",
       "      <td>67</td>\n",
       "      <td>A143</td>\n",
       "      <td>A152</td>\n",
       "      <td>2</td>\n",
       "      <td>A173</td>\n",
       "      <td>1</td>\n",
       "      <td>A192</td>\n",
       "      <td>A201</td>\n",
       "      <td>1</td>\n",
       "    </tr>\n",
       "  </tbody>\n",
       "</table>\n",
       "<p>1 rows × 21 columns</p>\n",
       "</div>"
      ],
      "text/plain": [
       "  Attribute1  Attribute2 Attribute3 Attribute4  Attribute5 Attribute6  \\\n",
       "0        A11           6        A34        A43        1169        A65   \n",
       "\n",
       "  Attribute7  Attribute8 Attribute9 Attribute10  ...  Attribute12 Attribute13  \\\n",
       "0        A75           4        A93        A101  ...         A121          67   \n",
       "\n",
       "   Attribute14 Attribute15 Attribute16  Attribute17 Attribute18  Attribute19  \\\n",
       "0         A143        A152           2         A173           1         A192   \n",
       "\n",
       "  Attribute20 class  \n",
       "0        A201     1  \n",
       "\n",
       "[1 rows x 21 columns]"
      ]
     },
     "execution_count": 28,
     "metadata": {},
     "output_type": "execute_result"
    }
   ],
   "source": [
    "from ucimlrepo import fetch_ucirepo\n",
    "\n",
    "# Descargar dataset con ID 144\n",
    "statlog_german_credit_data = fetch_ucirepo(id=144)\n",
    "\n",
    "# Guardar todo el dataset en un DataFrame\n",
    "df = statlog_german_credit_data.data.original\n",
    "\n",
    "# Mostrar las 5 primeras filas\n",
    "df.head(1)"
   ]
  },
  {
   "cell_type": "code",
   "execution_count": 29,
   "id": "d8a33287",
   "metadata": {},
   "outputs": [
    {
     "data": {
      "text/html": [
       "<div>\n",
       "<style scoped>\n",
       "    .dataframe tbody tr th:only-of-type {\n",
       "        vertical-align: middle;\n",
       "    }\n",
       "\n",
       "    .dataframe tbody tr th {\n",
       "        vertical-align: top;\n",
       "    }\n",
       "\n",
       "    .dataframe thead th {\n",
       "        text-align: right;\n",
       "    }\n",
       "</style>\n",
       "<table border=\"1\" class=\"dataframe\">\n",
       "  <thead>\n",
       "    <tr style=\"text-align: right;\">\n",
       "      <th></th>\n",
       "      <th>estado_cuenta</th>\n",
       "      <th>duracion_meses</th>\n",
       "      <th>historial_credito</th>\n",
       "      <th>proposito</th>\n",
       "      <th>monto_credito</th>\n",
       "      <th>cuenta_ahorro_bonos</th>\n",
       "      <th>empleo_actual</th>\n",
       "      <th>tasa_cuota_ingreso</th>\n",
       "      <th>estado_civil_sexo</th>\n",
       "      <th>otros_deudores_garantes</th>\n",
       "      <th>...</th>\n",
       "      <th>propiedad</th>\n",
       "      <th>edad</th>\n",
       "      <th>otros_planes_cuotas</th>\n",
       "      <th>vivienda</th>\n",
       "      <th>num_creditos_banco</th>\n",
       "      <th>ocupacion</th>\n",
       "      <th>num_personas_a_cargo</th>\n",
       "      <th>telefono</th>\n",
       "      <th>trabajador_extranjero</th>\n",
       "      <th>buen_mal_credito</th>\n",
       "    </tr>\n",
       "  </thead>\n",
       "  <tbody>\n",
       "    <tr>\n",
       "      <th>0</th>\n",
       "      <td>A11</td>\n",
       "      <td>6</td>\n",
       "      <td>A34</td>\n",
       "      <td>A43</td>\n",
       "      <td>1169</td>\n",
       "      <td>A65</td>\n",
       "      <td>A75</td>\n",
       "      <td>4</td>\n",
       "      <td>A93</td>\n",
       "      <td>A101</td>\n",
       "      <td>...</td>\n",
       "      <td>A121</td>\n",
       "      <td>67</td>\n",
       "      <td>A143</td>\n",
       "      <td>A152</td>\n",
       "      <td>2</td>\n",
       "      <td>A173</td>\n",
       "      <td>1</td>\n",
       "      <td>A192</td>\n",
       "      <td>A201</td>\n",
       "      <td>1</td>\n",
       "    </tr>\n",
       "    <tr>\n",
       "      <th>1</th>\n",
       "      <td>A12</td>\n",
       "      <td>48</td>\n",
       "      <td>A32</td>\n",
       "      <td>A43</td>\n",
       "      <td>5951</td>\n",
       "      <td>A61</td>\n",
       "      <td>A73</td>\n",
       "      <td>2</td>\n",
       "      <td>A92</td>\n",
       "      <td>A101</td>\n",
       "      <td>...</td>\n",
       "      <td>A121</td>\n",
       "      <td>22</td>\n",
       "      <td>A143</td>\n",
       "      <td>A152</td>\n",
       "      <td>1</td>\n",
       "      <td>A173</td>\n",
       "      <td>1</td>\n",
       "      <td>A191</td>\n",
       "      <td>A201</td>\n",
       "      <td>2</td>\n",
       "    </tr>\n",
       "    <tr>\n",
       "      <th>2</th>\n",
       "      <td>A14</td>\n",
       "      <td>12</td>\n",
       "      <td>A34</td>\n",
       "      <td>A46</td>\n",
       "      <td>2096</td>\n",
       "      <td>A61</td>\n",
       "      <td>A74</td>\n",
       "      <td>2</td>\n",
       "      <td>A93</td>\n",
       "      <td>A101</td>\n",
       "      <td>...</td>\n",
       "      <td>A121</td>\n",
       "      <td>49</td>\n",
       "      <td>A143</td>\n",
       "      <td>A152</td>\n",
       "      <td>1</td>\n",
       "      <td>A172</td>\n",
       "      <td>2</td>\n",
       "      <td>A191</td>\n",
       "      <td>A201</td>\n",
       "      <td>1</td>\n",
       "    </tr>\n",
       "  </tbody>\n",
       "</table>\n",
       "<p>3 rows × 21 columns</p>\n",
       "</div>"
      ],
      "text/plain": [
       "  estado_cuenta  duracion_meses historial_credito proposito  monto_credito  \\\n",
       "0           A11               6               A34       A43           1169   \n",
       "1           A12              48               A32       A43           5951   \n",
       "2           A14              12               A34       A46           2096   \n",
       "\n",
       "  cuenta_ahorro_bonos empleo_actual  tasa_cuota_ingreso estado_civil_sexo  \\\n",
       "0                 A65           A75                   4               A93   \n",
       "1                 A61           A73                   2               A92   \n",
       "2                 A61           A74                   2               A93   \n",
       "\n",
       "  otros_deudores_garantes  ...  propiedad edad  otros_planes_cuotas vivienda  \\\n",
       "0                    A101  ...       A121   67                 A143     A152   \n",
       "1                    A101  ...       A121   22                 A143     A152   \n",
       "2                    A101  ...       A121   49                 A143     A152   \n",
       "\n",
       "  num_creditos_banco  ocupacion num_personas_a_cargo  telefono  \\\n",
       "0                  2       A173                    1      A192   \n",
       "1                  1       A173                    1      A191   \n",
       "2                  1       A172                    2      A191   \n",
       "\n",
       "  trabajador_extranjero buen_mal_credito  \n",
       "0                  A201                1  \n",
       "1                  A201                2  \n",
       "2                  A201                1  \n",
       "\n",
       "[3 rows x 21 columns]"
      ]
     },
     "execution_count": 29,
     "metadata": {},
     "output_type": "execute_result"
    }
   ],
   "source": [
    "df = df.rename(columns={\n",
    "    'Attribute1': 'estado_cuenta',               # Categorical\n",
    "    'Attribute2': 'duracion_meses',              # Integer\n",
    "    'Attribute3': 'historial_credito',           # Categorical\n",
    "    'Attribute4': 'proposito',                    # Categorical\n",
    "    'Attribute5': 'monto_credito',                # Integer\n",
    "    'Attribute6': 'cuenta_ahorro_bonos',         # Categorical\n",
    "    'Attribute7': 'empleo_actual',                # Categorical\n",
    "    'Attribute8': 'tasa_cuota_ingreso',           # Integer\n",
    "    'Attribute9': 'estado_civil_sexo',            # Categorical\n",
    "    'Attribute10': 'otros_deudores_garantes',    # Categorical\n",
    "    'Attribute11': 'residencia_actual_anios',    # Integer\n",
    "    'Attribute12': 'propiedad',                    # Categorical\n",
    "    'Attribute13': 'edad',                         # Integer\n",
    "    'Attribute14': 'otros_planes_cuotas',         # Categorical\n",
    "    'Attribute15': 'vivienda',                     # Categorical\n",
    "    'Attribute16': 'num_creditos_banco',           # Integer\n",
    "    'Attribute17': 'ocupacion',                    # Categorical\n",
    "    'Attribute18': 'num_personas_a_cargo',         # Integer\n",
    "    'Attribute19': 'telefono',                      # Binary\n",
    "    'Attribute20': 'trabajador_extranjero',         # Binary\n",
    "    'class': 'buen_mal_credito'                    # Binary (Target)\n",
    "})\n",
    "\n",
    "df.head(3)"
   ]
  },
  {
   "cell_type": "markdown",
   "id": "29edbc5f",
   "metadata": {},
   "source": [
    "### Transformacion de datos"
   ]
  },
  {
   "cell_type": "markdown",
   "id": "950de081",
   "metadata": {},
   "source": [
    "Primero vamos a separar el estado el atributo combinado estado_civil_sexo, en 2 nuevas columnas, tenemos estos valores de esa columna:"
   ]
  },
  {
   "cell_type": "code",
   "execution_count": 30,
   "id": "21e45ef6",
   "metadata": {},
   "outputs": [
    {
     "name": "stdout",
     "output_type": "stream",
     "text": [
      "['A93' 'A92' 'A91' 'A94']\n",
      "------------------------------\n",
      "estado_civil_sexo\n",
      "A93    548\n",
      "A92    310\n",
      "A94     92\n",
      "A91     50\n",
      "Name: count, dtype: int64\n"
     ]
    }
   ],
   "source": [
    "print(df['estado_civil_sexo'].unique())\n",
    "print('-'*30)\n",
    "print(df['estado_civil_sexo'].value_counts())"
   ]
  },
  {
   "cell_type": "markdown",
   "id": "4d43e380",
   "metadata": {},
   "source": [
    "#### Personal status and sex\n",
    "\n",
    "* A91 : male   : divorced/separated\n",
    "* A92 : female : divorced/separated/married\n",
    "* A93 : male   : single\n",
    "* A94 : male   : married/widowed\n",
    "* A95 : female : single"
   ]
  },
  {
   "cell_type": "code",
   "execution_count": 31,
   "id": "065b28fe",
   "metadata": {},
   "outputs": [],
   "source": [
    "map_sexo = {\n",
    "    'A91': 'male',\n",
    "    'A92': 'female',\n",
    "    'A93': 'male',\n",
    "    'A94': 'male',\n",
    "    'A95': 'female'\n",
    "}\n",
    "\n",
    "map_estado_balanceado = {\n",
    "    'A91': 'not_single',\n",
    "    'A92': 'not_single',\n",
    "    'A93': 'single',\n",
    "    'A94': 'not_single',\n",
    "    'A95': 'single'\n",
    "}"
   ]
  },
  {
   "cell_type": "markdown",
   "id": "aa507a0c",
   "metadata": {},
   "source": [
    "Creamos las nuevas columnas"
   ]
  },
  {
   "cell_type": "code",
   "execution_count": 32,
   "id": "8049c55d",
   "metadata": {},
   "outputs": [],
   "source": [
    "df['estado_civil'] = df['estado_civil_sexo'].map(map_estado_balanceado)\n",
    "df['sexo'] = df['estado_civil_sexo'].map(map_sexo)\n"
   ]
  },
  {
   "cell_type": "code",
   "execution_count": 33,
   "id": "56cabb63",
   "metadata": {},
   "outputs": [
    {
     "name": "stdout",
     "output_type": "stream",
     "text": [
      "estado_civil\n",
      "single        548\n",
      "not_single    452\n",
      "Name: count, dtype: int64\n",
      "------------------------------\n",
      "sexo\n",
      "male      690\n",
      "female    310\n",
      "Name: count, dtype: int64\n"
     ]
    }
   ],
   "source": [
    "print(df['estado_civil'].value_counts())\n",
    "print(\"-\"*30)\n",
    "print(df['sexo'].value_counts())"
   ]
  },
  {
   "cell_type": "code",
   "execution_count": 34,
   "id": "fcc25281",
   "metadata": {},
   "outputs": [],
   "source": [
    "# Eliminamos nuestra columna: 'estado_civil_sexo'\n",
    "df.drop('estado_civil_sexo', axis=1, inplace=True)"
   ]
  },
  {
   "cell_type": "markdown",
   "id": "07d49866",
   "metadata": {},
   "source": [
    "### Preparando datos para enntrenar"
   ]
  },
  {
   "cell_type": "markdown",
   "id": "69b004e9",
   "metadata": {},
   "source": [
    "En primer lugar, vamos a transformar el dataset utilizando one-hot encoding para que el clasificador pueda procesarlo correctamente. En un principio, consideramos interpretar algunas variables como ordinales para reducir la cantidad de columnas generadas, pero finalmente decidimos no hacerlo.\n",
    "\n",
    "Aunque muchas categorías tienen un orden lógico y sus descripciones reflejan los límites entre ellas, el tipo de clasificador que elegimos — árboles de decisión — tiende a interpretar estas categorías ordinales como si unas fueran mejores que otras. \n",
    "\n",
    "Queríamos evitar introducir un sesgo de etiqueta artificial en el modelo, por lo que preferimos tratarlas como variables categóricas sin orden implícito. De esta manera, no se asume que una categoría es superior o inferior a otra."
   ]
  },
  {
   "cell_type": "markdown",
   "id": "691294de",
   "metadata": {},
   "source": [
    "Primero aplicamos encoding a los features"
   ]
  },
  {
   "cell_type": "code",
   "execution_count": 37,
   "id": "c4352c37",
   "metadata": {},
   "outputs": [],
   "source": [
    "import pandas as pd\n",
    "features = df.drop('buen_mal_credito', axis=1)\n",
    "features_encoded = pd.get_dummies(features, dtype=int)"
   ]
  },
  {
   "cell_type": "markdown",
   "id": "4c146d2e",
   "metadata": {},
   "source": [
    "Separando features y target"
   ]
  },
  {
   "cell_type": "code",
   "execution_count": 40,
   "id": "2a16a35c",
   "metadata": {},
   "outputs": [],
   "source": [
    "X = features_encoded\n",
    "Y = df['buen_mal_credito']"
   ]
  },
  {
   "cell_type": "markdown",
   "id": "ddbd3a5d",
   "metadata": {},
   "source": [
    "## Eleccion del modelo de clasificación"
   ]
  },
  {
   "cell_type": "markdown",
   "id": "86702479",
   "metadata": {},
   "source": [
    "Como modelo de clasificación, elegimos Random Forest porque consideramos que es el método más efectivo para este tipo de datos. Este modelo es capaz de capturar relaciones no lineales complejas, por lo que nos pareció adecuado evitar modelos que puedan tener dificultades para manejar dicha complejidad.\n",
    "\n",
    "Además, Random Forest maneja de forma eficiente las variables categóricas codificadas mediante one-hot encoding y es menos propenso al sobreajuste gracias a su naturaleza basada en múltiples árboles y técnicas de bagging.\n",
    "\n",
    "Para utilizar Random Forest, es necesario transformar las columnas categóricas. En nuestro caso, aplicamos one-hot encoding porque las variables no son ordinales, y queremos evitar que el clasificador interprete un orden que no existe entre las categorías."
   ]
  },
  {
   "cell_type": "markdown",
   "id": "744e003c",
   "metadata": {},
   "source": [
    "## Entrenamiento y evaluación del modelo"
   ]
  },
  {
   "cell_type": "code",
   "execution_count": 42,
   "id": "93fdc58e",
   "metadata": {},
   "outputs": [],
   "source": [
    "from sklearn.model_selection import train_test_split\n",
    "X_train, X_test, y_train, y_test = train_test_split(X, Y, test_size=0.2, random_state=42, stratify=Y)"
   ]
  },
  {
   "cell_type": "markdown",
   "id": "5fbd726e",
   "metadata": {},
   "source": [
    "## Matriz de confusión"
   ]
  },
  {
   "cell_type": "markdown",
   "id": "98fab998",
   "metadata": {},
   "source": []
  },
  {
   "cell_type": "markdown",
   "id": "24651882",
   "metadata": {},
   "source": [
    "## Interpretacion de resultados"
   ]
  },
  {
   "cell_type": "code",
   "execution_count": null,
   "id": "b14cdbf9",
   "metadata": {},
   "outputs": [],
   "source": []
  },
  {
   "cell_type": "markdown",
   "id": "a4426384",
   "metadata": {},
   "source": [
    "## Justificacion"
   ]
  }
 ],
 "metadata": {
  "kernelspec": {
   "display_name": "Python 3",
   "language": "python",
   "name": "python3"
  },
  "language_info": {
   "codemirror_mode": {
    "name": "ipython",
    "version": 3
   },
   "file_extension": ".py",
   "mimetype": "text/x-python",
   "name": "python",
   "nbconvert_exporter": "python",
   "pygments_lexer": "ipython3",
   "version": "3.13.3"
  }
 },
 "nbformat": 4,
 "nbformat_minor": 5
}

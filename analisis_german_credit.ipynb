{
 "cells": [
  {
   "cell_type": "markdown",
   "id": "23fd1bca",
   "metadata": {},
   "source": [
    "# Conjunto de datos"
   ]
  },
  {
   "cell_type": "markdown",
   "id": "3c4da804",
   "metadata": {},
   "source": [
    "## Obtener el conjunto de datos"
   ]
  },
  {
   "cell_type": "code",
   "execution_count": null,
   "id": "c5f98998",
   "metadata": {},
   "outputs": [],
   "source": [
    "%pip install ucimlrepo"
   ]
  },
  {
   "cell_type": "code",
   "execution_count": 9,
   "id": "a1986400",
   "metadata": {},
   "outputs": [
    {
     "data": {
      "text/html": [
       "<div>\n",
       "<style scoped>\n",
       "    .dataframe tbody tr th:only-of-type {\n",
       "        vertical-align: middle;\n",
       "    }\n",
       "\n",
       "    .dataframe tbody tr th {\n",
       "        vertical-align: top;\n",
       "    }\n",
       "\n",
       "    .dataframe thead th {\n",
       "        text-align: right;\n",
       "    }\n",
       "</style>\n",
       "<table border=\"1\" class=\"dataframe\">\n",
       "  <thead>\n",
       "    <tr style=\"text-align: right;\">\n",
       "      <th></th>\n",
       "      <th>Attribute1</th>\n",
       "      <th>Attribute2</th>\n",
       "      <th>Attribute3</th>\n",
       "      <th>Attribute4</th>\n",
       "      <th>Attribute5</th>\n",
       "      <th>Attribute6</th>\n",
       "      <th>Attribute7</th>\n",
       "      <th>Attribute8</th>\n",
       "      <th>Attribute9</th>\n",
       "      <th>Attribute10</th>\n",
       "      <th>...</th>\n",
       "      <th>Attribute12</th>\n",
       "      <th>Attribute13</th>\n",
       "      <th>Attribute14</th>\n",
       "      <th>Attribute15</th>\n",
       "      <th>Attribute16</th>\n",
       "      <th>Attribute17</th>\n",
       "      <th>Attribute18</th>\n",
       "      <th>Attribute19</th>\n",
       "      <th>Attribute20</th>\n",
       "      <th>class</th>\n",
       "    </tr>\n",
       "  </thead>\n",
       "  <tbody>\n",
       "    <tr>\n",
       "      <th>0</th>\n",
       "      <td>A11</td>\n",
       "      <td>6</td>\n",
       "      <td>A34</td>\n",
       "      <td>A43</td>\n",
       "      <td>1169</td>\n",
       "      <td>A65</td>\n",
       "      <td>A75</td>\n",
       "      <td>4</td>\n",
       "      <td>A93</td>\n",
       "      <td>A101</td>\n",
       "      <td>...</td>\n",
       "      <td>A121</td>\n",
       "      <td>67</td>\n",
       "      <td>A143</td>\n",
       "      <td>A152</td>\n",
       "      <td>2</td>\n",
       "      <td>A173</td>\n",
       "      <td>1</td>\n",
       "      <td>A192</td>\n",
       "      <td>A201</td>\n",
       "      <td>1</td>\n",
       "    </tr>\n",
       "    <tr>\n",
       "      <th>1</th>\n",
       "      <td>A12</td>\n",
       "      <td>48</td>\n",
       "      <td>A32</td>\n",
       "      <td>A43</td>\n",
       "      <td>5951</td>\n",
       "      <td>A61</td>\n",
       "      <td>A73</td>\n",
       "      <td>2</td>\n",
       "      <td>A92</td>\n",
       "      <td>A101</td>\n",
       "      <td>...</td>\n",
       "      <td>A121</td>\n",
       "      <td>22</td>\n",
       "      <td>A143</td>\n",
       "      <td>A152</td>\n",
       "      <td>1</td>\n",
       "      <td>A173</td>\n",
       "      <td>1</td>\n",
       "      <td>A191</td>\n",
       "      <td>A201</td>\n",
       "      <td>2</td>\n",
       "    </tr>\n",
       "    <tr>\n",
       "      <th>2</th>\n",
       "      <td>A14</td>\n",
       "      <td>12</td>\n",
       "      <td>A34</td>\n",
       "      <td>A46</td>\n",
       "      <td>2096</td>\n",
       "      <td>A61</td>\n",
       "      <td>A74</td>\n",
       "      <td>2</td>\n",
       "      <td>A93</td>\n",
       "      <td>A101</td>\n",
       "      <td>...</td>\n",
       "      <td>A121</td>\n",
       "      <td>49</td>\n",
       "      <td>A143</td>\n",
       "      <td>A152</td>\n",
       "      <td>1</td>\n",
       "      <td>A172</td>\n",
       "      <td>2</td>\n",
       "      <td>A191</td>\n",
       "      <td>A201</td>\n",
       "      <td>1</td>\n",
       "    </tr>\n",
       "    <tr>\n",
       "      <th>3</th>\n",
       "      <td>A11</td>\n",
       "      <td>42</td>\n",
       "      <td>A32</td>\n",
       "      <td>A42</td>\n",
       "      <td>7882</td>\n",
       "      <td>A61</td>\n",
       "      <td>A74</td>\n",
       "      <td>2</td>\n",
       "      <td>A93</td>\n",
       "      <td>A103</td>\n",
       "      <td>...</td>\n",
       "      <td>A122</td>\n",
       "      <td>45</td>\n",
       "      <td>A143</td>\n",
       "      <td>A153</td>\n",
       "      <td>1</td>\n",
       "      <td>A173</td>\n",
       "      <td>2</td>\n",
       "      <td>A191</td>\n",
       "      <td>A201</td>\n",
       "      <td>1</td>\n",
       "    </tr>\n",
       "    <tr>\n",
       "      <th>4</th>\n",
       "      <td>A11</td>\n",
       "      <td>24</td>\n",
       "      <td>A33</td>\n",
       "      <td>A40</td>\n",
       "      <td>4870</td>\n",
       "      <td>A61</td>\n",
       "      <td>A73</td>\n",
       "      <td>3</td>\n",
       "      <td>A93</td>\n",
       "      <td>A101</td>\n",
       "      <td>...</td>\n",
       "      <td>A124</td>\n",
       "      <td>53</td>\n",
       "      <td>A143</td>\n",
       "      <td>A153</td>\n",
       "      <td>2</td>\n",
       "      <td>A173</td>\n",
       "      <td>2</td>\n",
       "      <td>A191</td>\n",
       "      <td>A201</td>\n",
       "      <td>2</td>\n",
       "    </tr>\n",
       "  </tbody>\n",
       "</table>\n",
       "<p>5 rows × 21 columns</p>\n",
       "</div>"
      ],
      "text/plain": [
       "  Attribute1  Attribute2 Attribute3 Attribute4  Attribute5 Attribute6  \\\n",
       "0        A11           6        A34        A43        1169        A65   \n",
       "1        A12          48        A32        A43        5951        A61   \n",
       "2        A14          12        A34        A46        2096        A61   \n",
       "3        A11          42        A32        A42        7882        A61   \n",
       "4        A11          24        A33        A40        4870        A61   \n",
       "\n",
       "  Attribute7  Attribute8 Attribute9 Attribute10  ...  Attribute12 Attribute13  \\\n",
       "0        A75           4        A93        A101  ...         A121          67   \n",
       "1        A73           2        A92        A101  ...         A121          22   \n",
       "2        A74           2        A93        A101  ...         A121          49   \n",
       "3        A74           2        A93        A103  ...         A122          45   \n",
       "4        A73           3        A93        A101  ...         A124          53   \n",
       "\n",
       "   Attribute14 Attribute15 Attribute16  Attribute17 Attribute18  Attribute19  \\\n",
       "0         A143        A152           2         A173           1         A192   \n",
       "1         A143        A152           1         A173           1         A191   \n",
       "2         A143        A152           1         A172           2         A191   \n",
       "3         A143        A153           1         A173           2         A191   \n",
       "4         A143        A153           2         A173           2         A191   \n",
       "\n",
       "  Attribute20 class  \n",
       "0        A201     1  \n",
       "1        A201     2  \n",
       "2        A201     1  \n",
       "3        A201     1  \n",
       "4        A201     2  \n",
       "\n",
       "[5 rows x 21 columns]"
      ]
     },
     "execution_count": 9,
     "metadata": {},
     "output_type": "execute_result"
    }
   ],
   "source": [
    "from ucimlrepo import fetch_ucirepo\n",
    "\n",
    "# Descargar dataset con ID 144\n",
    "statlog_german_credit_data = fetch_ucirepo(id=144)\n",
    "\n",
    "# Guardar todo el dataset en un DataFrame\n",
    "df = statlog_german_credit_data.data.original\n",
    "\n",
    "# Mostrar las 5 primeras filas\n",
    "df.head(5)\n",
    "\n"
   ]
  },
  {
   "cell_type": "markdown",
   "id": "b1c3df46",
   "metadata": {},
   "source": [
    "Nuestro **target** es la columna **class**, mientras que las demas columnas son features."
   ]
  },
  {
   "cell_type": "markdown",
   "id": "b013954a",
   "metadata": {},
   "source": [
    "## Informacion del Datasheet"
   ]
  },
  {
   "cell_type": "markdown",
   "id": "9a99ecc8",
   "metadata": {},
   "source": [
    "### Motivación"
   ]
  },
  {
   "cell_type": "markdown",
   "id": "5f7fa38d",
   "metadata": {},
   "source": [
    "**¿Con qué propósito se creó el conjunto de datos? ¿Era para una tarea específica? ¿Había una brecha específica que necesitaba ser cubierta?**\n",
    "\n",
    "El dataset fue creado para clasificar personas descritas por un conjunto de atributos como buenos o malos riesgos crediticios.\n",
    "\n",
    "Su finalidad principal es apoyar tareas de clasificación en el ámbito financiero, específicamente para evaluar la solvencia crediticia de clientes.\n",
    "\n",
    "No se indica una brecha específica, pero sí se diseñó para facilitar el desarrollo y evaluación de modelos de predicción de riesgo crediticio.\n",
    "\n",
    "**¿Quién creó el conjunto de datos (equipo, grupo de investigación) y en nombre de qué entidad?**\n",
    "\n",
    "El conjunto de datos fue donado por el Profesor Dr. Hans Hofmann, del Institut für Statistik und Ökonometrie, Universität Hamburg, Alemania, como parte del proyecto europeo Statlog."
   ]
  },
  {
   "cell_type": "markdown",
   "id": "f5a33ac4",
   "metadata": {},
   "source": [
    "### Composición"
   ]
  },
  {
   "cell_type": "markdown",
   "id": "aca266b5",
   "metadata": {},
   "source": [
    "**¿Qué representan las instancias que componen el conjunto de datos? ¿Hay varios tipos de instancias?**\n",
    "\n",
    "Cada instancia representa a una persona que solicita un crédito bancario. El dataset contiene 1000 ejemplos con 20 características que incluyen variables tanto categóricas como numéricas, describiendo aspectos financieros y personales del solicitante (por ejemplo, estado de cuenta, duración del crédito, historial crediticio, propósito, monto, edad, género, empleo, entre otros).\n",
    "No hay varios tipos de instancias, todas representan personas solicitantes de crédito."
   ]
  },
  {
   "cell_type": "markdown",
   "id": "6e23f649",
   "metadata": {},
   "source": [
    "### Proceso de recopilación"
   ]
  },
  {
   "cell_type": "markdown",
   "id": "b54dbe31",
   "metadata": {},
   "source": [
    "**¿Cómo se adquirieron los datos asociados con cada instancia? ¿Fueron observados directamente, informados por sujetos o derivados? ¿Fueron validados o verificados?**\n",
    "\n",
    "Los datos provienen de registros bancarios reales, por lo que fueron observados directamente a partir de la información financiera y personal de los solicitantes. No se especifica que hayan sido informados por los sujetos ni derivados indirectamente.\n",
    "Se menciona que el dataset es un muestreo estratificado de créditos reales, con 1000 créditos (300 malos y 700 buenos).\n",
    "La validación o verificación específica no está detallada, aunque el dataset ha sido ampliamente utilizado y revisado en la literatura."
   ]
  },
  {
   "cell_type": "markdown",
   "id": "594596ff",
   "metadata": {},
   "source": [
    "### Preprocesamiento/limpieza/etiquetado"
   ]
  },
  {
   "cell_type": "markdown",
   "id": "a9768c49",
   "metadata": {},
   "source": [
    "**¿Se realizó algún preprocesamiento/limpieza/etiquetado de los datos?**\n",
    "\n",
    "El dataset original tiene variables tanto numéricas como categóricas, y viene acompañado de un archivo (german.doc) que explica el significado de cada variable y sus categorías.\n",
    "\n",
    "En general, se hizo lo siguiente:\n",
    "\n",
    "* Se eliminaron algunas filas con datos faltantes para mantener la calidad.\n",
    "* Se agruparon algunas categorías poco frecuentes para simplificar el análisis.\n",
    "* Se renombraron algunas variables para que sean más claras.\n",
    "* Se definieron algunas variables como ordinales (es decir, con un orden natural).\n",
    "* Se creó una versión numérica del dataset para facilitar el trabajo con modelos computacionales.\n",
    "\n",
    "No se hizo una limpieza profunda ni se eliminaron muchas filas, sino que principalmente se hizo codificación y organización para que los datos sean más fáciles de usar."
   ]
  },
  {
   "cell_type": "markdown",
   "id": "901bf09c",
   "metadata": {},
   "source": [
    "### Usos"
   ]
  },
  {
   "cell_type": "markdown",
   "id": "4d406687",
   "metadata": {},
   "source": [
    "**¿Se ha utilizado el conjunto de datos para alguna tarea?**\n",
    "\n",
    "Sí, es uno de los datasets más usados para tareas de clasificación en machine learning, especialmente para modelos de riesgo crediticio y fairness en decisiones financieras.\n",
    "\n",
    "**¿Existe un repositorio que enlace a alguno o todos los documentos o sistemas que utilizan el conjunto de datos?**\n",
    "\n",
    "Existen múltiples repositorios en GitHub, así como competiciones y kernels en Kaggle que usan este dataset para análisis, modelado y evaluación de fairness."
   ]
  },
  {
   "cell_type": "markdown",
   "id": "796b40fc",
   "metadata": {},
   "source": [
    "### Referencias"
   ]
  },
  {
   "cell_type": "markdown",
   "id": "c8b758f3",
   "metadata": {},
   "source": [
    "\n",
    "[Comparative Testing and Evaluation of Statistical and Logical Learning Algorithms for Large-Scale Applications in Classification, Prediction and Control](https://cordis.europa.eu/project/rcn/8791/factsheet/en)\n",
    "\n",
    "[Statlog (German Credit Data)](https://archive.ics.uci.edu/dataset/144/statlog+german+credit+data)\n",
    "\n",
    "[South German Credit Data: Correcting a Widely Used Data Set](https://www1.beuth-hochschule.de/FB_II/reports/Report-2019-004.pdf)\n",
    "\n",
    "[Github German Credit Data](https://github.com/rajarshighoshal/german-credit-data/blob/master/README.md)\n",
    "\n",
    "[Kaggle German Credit Data](https://www.kaggle.com/datasets/uciml/german-credit)\n",
    "\n",
    "[ejemplo uso en kaggle de los datos](https://www.kaggle.com/code/mehmetirinzalp/credit-risk)"
   ]
  },
  {
   "cell_type": "markdown",
   "id": "9cf1db74",
   "metadata": {},
   "source": []
  }
 ],
 "metadata": {
  "kernelspec": {
   "display_name": "Python 3",
   "language": "python",
   "name": "python3"
  },
  "language_info": {
   "codemirror_mode": {
    "name": "ipython",
    "version": 3
   },
   "file_extension": ".py",
   "mimetype": "text/x-python",
   "name": "python",
   "nbconvert_exporter": "python",
   "pygments_lexer": "ipython3",
   "version": "3.13.3"
  }
 },
 "nbformat": 4,
 "nbformat_minor": 5
}

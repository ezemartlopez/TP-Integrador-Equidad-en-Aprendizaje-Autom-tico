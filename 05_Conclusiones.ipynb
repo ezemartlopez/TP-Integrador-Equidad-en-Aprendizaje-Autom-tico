{
 "cells": [
  {
   "cell_type": "markdown",
   "id": "9fdebe9d",
   "metadata": {},
   "source": [
    "# Conclusiones Finales"
   ]
  },
  {
   "cell_type": "markdown",
   "id": "2823de89",
   "metadata": {},
   "source": [
    "## Comparacion del modelo original y el ajustado"
   ]
  },
  {
   "cell_type": "markdown",
   "id": "43aaed7c",
   "metadata": {},
   "source": [
    "## Mejoras fairness del modelo"
   ]
  },
  {
   "cell_type": "markdown",
   "id": "9929205d",
   "metadata": {},
   "source": [
    "## Impactos de los cambios"
   ]
  },
  {
   "cell_type": "markdown",
   "id": "112d218c",
   "metadata": {},
   "source": []
  }
 ],
 "metadata": {
  "language_info": {
   "name": "python"
  }
 },
 "nbformat": 4,
 "nbformat_minor": 5
}
